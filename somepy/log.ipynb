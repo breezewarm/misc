{
 "cells": [
  {
   "cell_type": "code",
   "execution_count": 18,
   "metadata": {},
   "outputs": [],
   "source": [
    "import pandas as pd\n",
    "\n",
    "keyfile = '/Users/cwen/development/doc/RWJF_project/phase_2/log_for_josh/key_for_chen.csv'\n",
    "infile = '/Users/cwen/development/doc/RWJF_project/phase_2/log_for_josh/allUIAccess.log'\n",
    "outfile = '/Users/cwen/development/doc/RWJF_project/phase_2/log_for_josh/allUIAccess.processed.log'\n",
    "\n",
    "dtype_dict = {'PAT_ID': str, \n",
    "            'PAT_MRN_ID': str,\n",
    "            'sid': str}\n",
    "keys = pd.read_csv(keyfile, header=0, dtype=dtype_dict)\n",
    "keys.columns = ['pid', 'mrn', 'sid']\n",
    "#keys\n",
    "#print(keys.loc[keys['mrn'] == '016311979'])\n",
    "\n",
    "with open(outfile, 'a') as out_f:\n",
    "    with open(infile) as f:\n",
    "        line = f.readline()\n",
    "        if 'mrn=' in line:\n",
    "            pass\n",
    "        if '\\.out\\.html' in line:\n",
    "            out_f.write(line)"
   ]
  },
  {
   "cell_type": "code",
   "execution_count": null,
   "metadata": {},
   "outputs": [],
   "source": []
  }
 ],
 "metadata": {
  "language_info": {
   "codemirror_mode": {
    "name": "ipython",
    "version": 3
   },
   "file_extension": ".py",
   "mimetype": "text/x-python",
   "name": "python",
   "nbconvert_exporter": "python",
   "pygments_lexer": "ipython3",
   "version": "3.7.5-final"
  },
  "orig_nbformat": 2,
  "kernelspec": {
   "name": "python37564bitf22e9d3973f041e884bf1e235f9d1b22",
   "display_name": "Python 3.7.5 64-bit"
  }
 },
 "nbformat": 4,
 "nbformat_minor": 2
}